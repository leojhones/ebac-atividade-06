{
 "cells": [
  {
   "cell_type": "markdown",
   "id": "2b53d7ff",
   "metadata": {},
   "source": [
    "# Módulo 06 Tarefa 2"
   ]
  },
  {
   "cell_type": "code",
   "execution_count": null,
   "id": "dadf039d",
   "metadata": {},
   "outputs": [],
   "source": [
    "import matplotlib.pyplot as plt\n",
    "import seaborn as sns\n",
    "\n",
    "# Configurando o estilo do seaborn para melhorar a apresentação do boxplot\n",
    "sns.set(style=\"whitegrid\")\n",
    "\n",
    "# Criando o boxplot da idade da mãe\n",
    "plt.figure(figsize=(10, 6))\n",
    "sns.boxplot(x=sinasc_data['IDADEMAE'])\n",
    "\n",
    "# Adicionando rótulo e título\n",
    "plt.xlabel('Idade da Mãe')\n",
    "plt.title('Boxplot da Idade da Mãe na Base do SINASC')\n",
    "\n",
    "# Exibindo o boxplot\n",
    "plt.show()"
   ]
  },
  {
   "cell_type": "code",
   "execution_count": null,
   "id": "63db6990",
   "metadata": {},
   "outputs": [],
   "source": [
    "import matplotlib.pyplot as plt\n",
    "import seaborn as sns\n",
    "\n",
    "# Configurando o estilo do seaborn\n",
    "sns.set(style=\"whitegrid\")\n",
    "\n",
    "# Criando o boxplot do peso do bebê\n",
    "plt.figure(figsize=(10, 6))\n",
    "sns.boxplot(x=sinasc_data['PESO'])\n",
    "\n",
    "# Adicionando rótulo e título\n",
    "plt.xlabel('Peso do Bebê (em gramas)')\n",
    "plt.title('Boxplot do Peso do Bebê na Base do SINASC')\n",
    "\n",
    "# Exibindo o boxplot\n",
    "plt.show()"
   ]
  },
  {
   "cell_type": "code",
   "execution_count": null,
   "id": "411b3e17",
   "metadata": {},
   "outputs": [],
   "source": [
    "import matplotlib.pyplot as plt\n",
    "import seaborn as sns\n",
    "\n",
    "# Configurando o estilo do seaborn\n",
    "sns.set(style=\"whitegrid\")\n",
    "\n",
    "# Criando o histograma da idade da mãe\n",
    "plt.figure(figsize=(10, 6))\n",
    "sns.histplot(sinasc_data['IDADEMAE'], bins=30, kde=False, color='blue')\n",
    "\n",
    "# Adicionando rótulo e título\n",
    "plt.xlabel('Idade da Mãe')\n",
    "plt.ylabel('Frequência')\n",
    "plt.title('Histograma da Idade da Mãe na Base do SINASC')\n",
    "\n",
    "# Exibindo o histograma\n",
    "plt.show()"
   ]
  },
  {
   "cell_type": "code",
   "execution_count": null,
   "id": "188f13c0",
   "metadata": {},
   "outputs": [],
   "source": [
    "import matplotlib.pyplot as plt\n",
    "import seaborn as sns\n",
    "\n",
    "# Configurando o estilo do seaborn\n",
    "sns.set(style=\"whitegrid\")\n",
    "\n",
    "# Criando o histograma do peso do bebê\n",
    "plt.figure(figsize=(10, 6))\n",
    "sns.histplot(sinasc_data['PESO'], bins=30, kde=False, color='green')\n",
    "\n",
    "# Adicionando rótulo e título\n",
    "plt.xlabel('Peso do Bebê (em gramas)')\n",
    "plt.ylabel('Frequência')\n",
    "plt.title('Histograma do Peso do Bebê na Base do SINASC')\n",
    "\n",
    "# Exibindo o histograma\n",
    "plt.show()"
   ]
  }
 ],
 "metadata": {
  "kernelspec": {
   "display_name": "Python 3 (ipykernel)",
   "language": "python",
   "name": "python3"
  },
  "language_info": {
   "codemirror_mode": {
    "name": "ipython",
    "version": 3
   },
   "file_extension": ".py",
   "mimetype": "text/x-python",
   "name": "python",
   "nbconvert_exporter": "python",
   "pygments_lexer": "ipython3",
   "version": "3.11.5"
  }
 },
 "nbformat": 4,
 "nbformat_minor": 5
}
