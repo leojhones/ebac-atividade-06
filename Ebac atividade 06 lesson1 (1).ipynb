{
 "cells": [
  {
   "cell_type": "code",
   "execution_count": 1,
   "id": "4631b9f8",
   "metadata": {},
   "outputs": [
    {
     "data": {
      "application/vnd.jupyter.widget-view+json": {
       "model_id": "f9b1ea7cb06541b0b3c4884e671d66fb",
       "version_major": 2,
       "version_minor": 0
      },
      "text/plain": [
       "FileUpload(value=(), description='Upload')"
      ]
     },
     "metadata": {},
     "output_type": "display_data"
    }
   ],
   "source": [
    "from ipywidgets import FileUpload\n",
    "\n",
    "# Criar o widget de upload\n",
    "upload = FileUpload()\n",
    "\n",
    "# Mostrar o widget de upload\n",
    "display(upload)"
   ]
  },
  {
   "cell_type": "code",
   "execution_count": 2,
   "id": "2120d63f",
   "metadata": {
    "scrolled": true
   },
   "outputs": [
    {
     "ename": "AttributeError",
     "evalue": "'tuple' object has no attribute 'items'",
     "output_type": "error",
     "traceback": [
      "\u001b[1;31m---------------------------------------------------------------------------\u001b[0m",
      "\u001b[1;31mAttributeError\u001b[0m                            Traceback (most recent call last)",
      "Cell \u001b[1;32mIn[2], line 5\u001b[0m\n\u001b[0;32m      2\u001b[0m arquivos_carregados \u001b[38;5;241m=\u001b[39m upload\u001b[38;5;241m.\u001b[39mvalue\n\u001b[0;32m      4\u001b[0m \u001b[38;5;66;03m# Iterar sobre os arquivos carregados\u001b[39;00m\n\u001b[1;32m----> 5\u001b[0m \u001b[38;5;28;01mfor\u001b[39;00m nome_arquivo, conteudo_arquivo \u001b[38;5;129;01min\u001b[39;00m arquivos_carregados\u001b[38;5;241m.\u001b[39mitems():\n\u001b[0;32m      6\u001b[0m     \u001b[38;5;28;01mwith\u001b[39;00m \u001b[38;5;28mopen\u001b[39m(nome_arquivo, \u001b[38;5;124m'\u001b[39m\u001b[38;5;124mwb\u001b[39m\u001b[38;5;124m'\u001b[39m) \u001b[38;5;28;01mas\u001b[39;00m f:\n\u001b[0;32m      7\u001b[0m         f\u001b[38;5;241m.\u001b[39mwrite(conteudo_arquivo)\n",
      "\u001b[1;31mAttributeError\u001b[0m: 'tuple' object has no attribute 'items'"
     ]
    }
   ],
   "source": [
    "# Acessar os arquivos carregados\n",
    "arquivos_carregados = upload.value\n",
    "\n",
    "# Iterar sobre os arquivos carregados\n",
    "for nome_arquivo, conteudo_arquivo in arquivos_carregados.items():\n",
    "    with open(nome_arquivo, 'wb') as f:\n",
    "        f.write(conteudo_arquivo)"
   ]
  },
  {
   "cell_type": "code",
   "execution_count": 3,
   "id": "ad48aa37",
   "metadata": {},
   "outputs": [
    {
     "ename": "SyntaxError",
     "evalue": "invalid syntax (1808589106.py, line 1)",
     "output_type": "error",
     "traceback": [
      "\u001b[1;36m  Cell \u001b[1;32mIn[3], line 1\u001b[1;36m\u001b[0m\n\u001b[1;33m    pip install ipywidgets\u001b[0m\n\u001b[1;37m        ^\u001b[0m\n\u001b[1;31mSyntaxError\u001b[0m\u001b[1;31m:\u001b[0m invalid syntax\n"
     ]
    }
   ],
   "source": [
    "pip install ipywidgets\n",
    "jupyter nbextension enable --py widgetsnbextension"
   ]
  },
  {
   "cell_type": "code",
   "execution_count": null,
   "id": "a58aa338",
   "metadata": {},
   "outputs": [],
   "source": [
    "import pandas as pd\n",
    "''\n",
    "# Carregar o arquivo CSV\n",
    "dados_sinasc = pd.read_csv('sinasc_RO_2019.csv')\n",
    "\n",
    "# Visualizar as primeiras linhas dos dados\n",
    "print(dados_sinasc.head())"
   ]
  },
  {
   "cell_type": "code",
   "execution_count": null,
   "id": "d4767013",
   "metadata": {},
   "outputs": [],
   "source": [
    "# Definir os intervalos e as categorias\n",
    "intervalos = [-1, 3, 5, 7, 10]\n",
    "categorias = ['asfixia grave', 'asfixia moderada', 'asfixia leve', 'normal']\n",
    "\n",
    "# Categorizar a variável APGAR5\n",
    "dados_sinasc['APGAR5_categorizado'] = pd.cut(dados_sinasc['APGAR5'], bins=intervalos, labels=categorias, right=False)\n",
    "\n",
    "# Visualizar as primeiras linhas dos dados com a nova variável categorizada\n",
    "print(dados_sinasc[['APGAR5', 'APGAR5_categorizado']].head())"
   ]
  },
  {
   "cell_type": "code",
   "execution_count": null,
   "id": "25386e17",
   "metadata": {},
   "outputs": [],
   "source": [
    "import seaborn as sns\n",
    "import matplotlib.pyplot as plt\n",
    "\n",
    "# Filtrar os dados para remover valores ausentes em APGAR5 e GESTACAO\n",
    "dados_filtrados = dados_sinasc.dropna(subset=['APGAR5', 'GESTACAO'])\n",
    "\n",
    "# Criar o boxplot\n",
    "plt.figure(figsize=(10, 6))\n",
    "sns.boxplot(x='GESTACAO', y='APGAR5', hue='SEXO', data=dados_filtrados)\n",
    "\n",
    "# Adicionar título e rótulos aos eixos\n",
    "plt.title('Distribuição de APGAR5 por Sexo e Tempo de Gestação')\n",
    "plt.xlabel('Tempo de Gestação')\n",
    "plt.ylabel('APGAR5')\n",
    "plt.xticks(rotation=45)\n",
    "\n",
    "# Mostrar o gráfico\n",
    "plt.legend(title='Sexo')\n",
    "plt.tight_layout()\n",
    "plt.show()"
   ]
  },
  {
   "cell_type": "code",
   "execution_count": null,
   "id": "c561dcde",
   "metadata": {},
   "outputs": [],
   "source": [
    "# Montar a tabela cruzada\n",
    "tabela_cruzada = pd.crosstab(index=dados_sinasc['GESTACAO'], columns=dados_sinasc['APGAR5'])\n",
    "\n",
    "# Visualizar a tabela cruzada\n",
    "print(tabela_cruzada)"
   ]
  },
  {
   "cell_type": "code",
   "execution_count": null,
   "id": "66fe2a8c",
   "metadata": {},
   "outputs": [],
   "source": [
    "# Calcular os percentuais de linha\n",
    "percentuais_linha = tabela_cruzada.div(tabela_cruzada.sum(axis=1), axis=0) * 100\n",
    "\n",
    "# Arredondar os valores para duas casas decimais\n",
    "percentuais_linha = percentuais_linha.round(2)\n",
    "\n",
    "# Visualizar os percentuais de linha\n",
    "print(percentuais_linha)"
   ]
  },
  {
   "cell_type": "code",
   "execution_count": 38,
   "id": "43345c94",
   "metadata": {},
   "outputs": [
    {
     "ename": "NameError",
     "evalue": "name 'dados_sinasc' is not defined",
     "output_type": "error",
     "traceback": [
      "\u001b[1;31m---------------------------------------------------------------------------\u001b[0m",
      "\u001b[1;31mNameError\u001b[0m                                 Traceback (most recent call last)",
      "Cell \u001b[1;32mIn[38], line 2\u001b[0m\n\u001b[0;32m      1\u001b[0m \u001b[38;5;66;03m# Calcular a proporção de nascimentos prematuros para cada valor de APGAR5\u001b[39;00m\n\u001b[1;32m----> 2\u001b[0m prematuro \u001b[38;5;241m=\u001b[39m dados_sinasc[dados_sinasc[\u001b[38;5;124m'\u001b[39m\u001b[38;5;124mGESTACAO\u001b[39m\u001b[38;5;124m'\u001b[39m] \u001b[38;5;241m<\u001b[39m \u001b[38;5;241m37\u001b[39m]\n\u001b[0;32m      3\u001b[0m total_prematuro \u001b[38;5;241m=\u001b[39m prematuro\u001b[38;5;241m.\u001b[39mgroupby(\u001b[38;5;124m'\u001b[39m\u001b[38;5;124mAPGAR5\u001b[39m\u001b[38;5;124m'\u001b[39m)\u001b[38;5;241m.\u001b[39msize()\n\u001b[0;32m      4\u001b[0m prop_prematuro \u001b[38;5;241m=\u001b[39m total_prematuro \u001b[38;5;241m/\u001b[39m dados_sinasc\u001b[38;5;241m.\u001b[39mgroupby(\u001b[38;5;124m'\u001b[39m\u001b[38;5;124mAPGAR5\u001b[39m\u001b[38;5;124m'\u001b[39m)\u001b[38;5;241m.\u001b[39msize()\n",
      "\u001b[1;31mNameError\u001b[0m: name 'dados_sinasc' is not defined"
     ]
    }
   ],
   "source": [
    "# Calcular a proporção de nascimentos prematuros para cada valor de APGAR5\n",
    "prematuro = dados_sinasc[dados_sinasc['GESTACAO'] < 37]\n",
    "total_prematuro = prematuro.groupby('APGAR5').size()\n",
    "prop_prematuro = total_prematuro / dados_sinasc.groupby('APGAR5').size()\n",
    "\n",
    "# Plotar o gráfico de barras\n",
    "plt.figure(figsize=(10, 6))\n",
    "prop_prematuro.plot(kind='bar', color='skyblue')\n",
    "\n",
    "# Adicionar título e rótulos aos eixos\n",
    "plt.title('Proporção de Parto Prematuro por APGAR5')\n",
    "plt.xlabel('APGAR5')\n",
    "plt.ylabel('Proporção de Parto Prematuro')\n",
    "plt.xticks(rotation=0)\n",
    "\n",
    "# Mostrar o gráfico\n",
    "plt.tight_layout()\n",
    "plt.show()"
   ]
  },
  {
   "cell_type": "code",
   "execution_count": null,
   "id": "78d14f69",
   "metadata": {},
   "outputs": [],
   "source": [
    "# Gráfico de dispersão\n",
    "plt.figure(figsize=(10, 6))\n",
    "sns.scatterplot(data=dados_sinasc, x='APGAR5', y='PESO')\n",
    "plt.title('Relação entre APGAR5 e Peso do Bebê')\n",
    "plt.xlabel('APGAR5')\n",
    "plt.ylabel('Peso do Bebê (g)')\n",
    "plt.show()\n",
    "\n",
    "# Coeficiente de correlação\n",
    "correlacao = dados_sinasc['APGAR5'].corr(dados_sinasc['PESO'])\n",
    "print(f\"Coeficiente de correlação entre APGAR5 e Peso do Bebê: {correlacao}\")"
   ]
  }
 ],
 "metadata": {
  "kernelspec": {
   "display_name": "Python 3 (ipykernel)",
   "language": "python",
   "name": "python3"
  },
  "language_info": {
   "codemirror_mode": {
    "name": "ipython",
    "version": 3
   },
   "file_extension": ".py",
   "mimetype": "text/x-python",
   "name": "python",
   "nbconvert_exporter": "python",
   "pygments_lexer": "ipython3",
   "version": "3.11.5"
  }
 },
 "nbformat": 4,
 "nbformat_minor": 5
}
